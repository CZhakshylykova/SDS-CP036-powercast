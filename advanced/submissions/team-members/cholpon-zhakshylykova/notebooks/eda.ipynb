{
 "cells": [
  {
   "cell_type": "code",
   "execution_count": 15,
   "metadata": {},
   "outputs": [],
   "source": [
    "# import necessary libraries\n",
    "import os\n",
    "import sys\n",
    "import pandas as pd\n",
    "import numpy as np\n"
   ]
  },
  {
   "cell_type": "code",
   "execution_count": 26,
   "metadata": {},
   "outputs": [],
   "source": [
    "#import the dataset\n",
    "data = pd.read_csv('../data/Tetuan City power consumption.csv')"
   ]
  },
  {
   "cell_type": "code",
   "execution_count": 27,
   "metadata": {},
   "outputs": [
    {
     "name": "stdout",
     "output_type": "stream",
     "text": [
      "        DateTime  Temperature  Humidity  Wind Speed  general diffuse flows  \\\n",
      "0  1/1/2017 0:00        6.559      73.8       0.083                  0.051   \n",
      "1  1/1/2017 0:10        6.414      74.5       0.083                  0.070   \n",
      "2  1/1/2017 0:20        6.313      74.5       0.080                  0.062   \n",
      "3  1/1/2017 0:30        6.121      75.0       0.083                  0.091   \n",
      "4  1/1/2017 0:40        5.921      75.7       0.081                  0.048   \n",
      "\n",
      "   diffuse flows  Zone 1 Power Consumption  Zone 2  Power Consumption  \\\n",
      "0          0.119               34055.69620                16128.87538   \n",
      "1          0.085               29814.68354                19375.07599   \n",
      "2          0.100               29128.10127                19006.68693   \n",
      "3          0.096               28228.86076                18361.09422   \n",
      "4          0.085               27335.69620                17872.34043   \n",
      "\n",
      "   Zone 3  Power Consumption  \n",
      "0                20240.96386  \n",
      "1                20131.08434  \n",
      "2                19668.43373  \n",
      "3                18899.27711  \n",
      "4                18442.40964  \n",
      "DateTime                     0\n",
      "Temperature                  0\n",
      "Humidity                     0\n",
      "Wind Speed                   0\n",
      "general diffuse flows        0\n",
      "diffuse flows                0\n",
      "Zone 1 Power Consumption     0\n",
      "Zone 2  Power Consumption    0\n",
      "Zone 3  Power Consumption    0\n",
      "dtype: int64\n",
      "<class 'pandas.core.frame.DataFrame'>\n",
      "RangeIndex: 52416 entries, 0 to 52415\n",
      "Data columns (total 9 columns):\n",
      " #   Column                     Non-Null Count  Dtype  \n",
      "---  ------                     --------------  -----  \n",
      " 0   DateTime                   52416 non-null  object \n",
      " 1   Temperature                52416 non-null  float64\n",
      " 2   Humidity                   52416 non-null  float64\n",
      " 3   Wind Speed                 52416 non-null  float64\n",
      " 4   general diffuse flows      52416 non-null  float64\n",
      " 5   diffuse flows              52416 non-null  float64\n",
      " 6   Zone 1 Power Consumption   52416 non-null  float64\n",
      " 7   Zone 2  Power Consumption  52416 non-null  float64\n",
      " 8   Zone 3  Power Consumption  52416 non-null  float64\n",
      "dtypes: float64(8), object(1)\n",
      "memory usage: 3.6+ MB\n",
      "None\n",
      "        Temperature      Humidity    Wind Speed  general diffuse flows  \\\n",
      "count  52416.000000  52416.000000  52416.000000           52416.000000   \n",
      "mean      18.810024     68.259518      1.959489             182.696614   \n",
      "std        5.815476     15.551177      2.348862             264.400960   \n",
      "min        3.247000     11.340000      0.050000               0.004000   \n",
      "25%       14.410000     58.310000      0.078000               0.062000   \n",
      "50%       18.780000     69.860000      0.086000               5.035500   \n",
      "75%       22.890000     81.400000      4.915000             319.600000   \n",
      "max       40.010000     94.800000      6.483000            1163.000000   \n",
      "\n",
      "       diffuse flows  Zone 1 Power Consumption  Zone 2  Power Consumption  \\\n",
      "count   52416.000000              52416.000000               52416.000000   \n",
      "mean       75.028022              32344.970564               21042.509082   \n",
      "std       124.210949               7130.562564                5201.465892   \n",
      "min         0.011000              13895.696200                8560.081466   \n",
      "25%         0.122000              26310.668692               16980.766032   \n",
      "50%         4.456000              32265.920340               20823.168405   \n",
      "75%       101.000000              37309.018185               24713.717520   \n",
      "max       936.000000              52204.395120               37408.860760   \n",
      "\n",
      "       Zone 3  Power Consumption  \n",
      "count               52416.000000  \n",
      "mean                17835.406218  \n",
      "std                  6622.165099  \n",
      "min                  5935.174070  \n",
      "25%                 13129.326630  \n",
      "50%                 16415.117470  \n",
      "75%                 21624.100420  \n",
      "max                 47598.326360  \n",
      "0\n"
     ]
    }
   ],
   "source": [
    "#inspect the first few rows of the dataset\n",
    "print(data.head())\n",
    "#check for missing values\n",
    "print(data.isnull().sum())\n",
    "\n",
    "print(data.info())\n",
    "print(data.describe())\n",
    "print(data.duplicated().sum())"
   ]
  },
  {
   "cell_type": "markdown",
   "metadata": {},
   "source": [
    "#there are no duplicates in the date time in the data set"
   ]
  },
  {
   "cell_type": "code",
   "execution_count": 28,
   "metadata": {},
   "outputs": [],
   "source": [
    "# convert the DateTime column to datetime format\n",
    "data = data.set_index(\"DateTime\")"
   ]
  },
  {
   "cell_type": "code",
   "execution_count": 31,
   "metadata": {},
   "outputs": [
    {
     "name": "stdout",
     "output_type": "stream",
     "text": [
      "initial date: 1/1/2017 0:00\n",
      "end date: 9/9/2017 9:50\n"
     ]
    }
   ],
   "source": [
    "#get the intial index of the dataframe and the finel index of the dataframe\n",
    "print(f\"initial date: {data.index.min()}\")\n",
    "print(f\"end date: {data.index.max()}\")"
   ]
  },
  {
   "cell_type": "code",
   "execution_count": null,
   "metadata": {},
   "outputs": [],
   "source": []
  }
 ],
 "metadata": {
  "kernelspec": {
   "display_name": ".venv",
   "language": "python",
   "name": "python3"
  },
  "language_info": {
   "codemirror_mode": {
    "name": "ipython",
    "version": 3
   },
   "file_extension": ".py",
   "mimetype": "text/x-python",
   "name": "python",
   "nbconvert_exporter": "python",
   "pygments_lexer": "ipython3",
   "version": "3.13.4"
  }
 },
 "nbformat": 4,
 "nbformat_minor": 2
}
